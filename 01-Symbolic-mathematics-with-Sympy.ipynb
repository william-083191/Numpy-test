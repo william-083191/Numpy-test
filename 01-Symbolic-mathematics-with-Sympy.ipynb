//The above imports the library and gives us access to it's commands using the shortand sym which is conventially used.

import sympy as sym

def custom_latex_printer(exp,**options):
    from google.colab.output._publish import javascript
    url = "https://cdnjs.cloudflare.com/ajax/libs/mathjax/2.7.3/latest.js?config=default"
    javascript(url=url)
    return sym.printing.latex(exp,**options)
sym.init_printing(use_latex="mathjax",latex_printer=custom_latex_printer)


//This is where Sympy comes in, we can tell Python to create $x$ as a symbolic variable:

x = sym.symbols('x')
